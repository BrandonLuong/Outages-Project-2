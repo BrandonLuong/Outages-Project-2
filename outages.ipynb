{
 "cells": [
  {
   "cell_type": "markdown",
   "metadata": {},
   "source": [
    "# Power Outages\n",
    "* **See the main project notebook for instructions to be sure you satisfy the rubric!**\n",
    "* See Project 03 for information on the dataset.\n",
    "* A few example prediction questions to pursue are listed below. However, don't limit yourself to them!\n",
    "    * Predict the severity (number of customers, duration, or demand loss) of a major power outage.\n",
    "    * Predict the cause of a major power outage.\n",
    "    * Predict the number and/or severity of major power outages in the year 2020.\n",
    "    * Predict the electricity consumption of an area.\n",
    "\n",
    "Be careful to justify what information you would know at the \"time of prediction\" and train your model using only those features."
   ]
  },
  {
   "cell_type": "markdown",
   "metadata": {},
   "source": [
    "# Summary of Findings\n",
    "\n",
    "\n",
    "### Introduction\n",
    "In this project, I am attempting to predict the duration of the major power outage through a regression problem. Therefore, my target variable will be 'OUTAGE.DURATION' from the 'outage' dataset. The evaluation metric used is R^2.\n",
    "\n",
    "### Baseline Model\n",
    "For the baseline model, only three features are used. They are 'U.S._STATE', 'CAUSE.CATEGORY', and 'PC.REALGSP.REL'. The features 'U.S._STATE' and 'CAUSE.CATEGORY' are categorical features while 'PC.REALGSP.REL' is nominal. The R^2 of this model using the training sets was ~0.69 while the test sets gave a score of ~-0.18. I do not think this score is good. Even though the R^2 for the training set is relatively high, the model did not perform well on the test sets.\n",
    "\n",
    "### Final Model\n",
    "For the final model, new features were added. The features 'PC.REALGSP.REL' and 'PC.REALGSP.CHANGE' were standardized. The features 'OUTAGE.START.TIME' and 'MONTH' were split into 3 bins. Lastly, the features 'NERC.REGION', 'CLIMATE.CATEGORY', 'CLIMATE.REGION' were added as categorical features. The model type I chose was DecisionTreeRegressor and the parameters that performed the best was max_depth=30 and criterion='squared_error'. These parameters were chosen through a manual process.\n",
    "\n",
    "### Fairness Evaluation\n",
    "The results of the fairness evaluation concluded with the two groups 'east' and 'west' from CLIMATE.REGION being unfair. The pairity measure used for this test was R^2 since the model that was used is a regressor."
   ]
  },
  {
   "cell_type": "markdown",
   "metadata": {},
   "source": [
    "# Code"
   ]
  },
  {
   "cell_type": "code",
   "execution_count": 1,
   "metadata": {},
   "outputs": [],
   "source": [
    "import matplotlib.pyplot as plt\n",
    "import numpy as np\n",
    "import os\n",
    "import pandas as pd\n",
    "import seaborn as sns\n",
    "%matplotlib inline\n",
    "%config InlineBackend.figure_format = 'retina'  # Higher resolution figures"
   ]
  },
  {
   "cell_type": "markdown",
   "metadata": {},
   "source": [
    "### Baseline Model"
   ]
  },
  {
   "cell_type": "code",
   "execution_count": 28,
   "metadata": {},
   "outputs": [],
   "source": [
    "from sklearn.model_selection import train_test_split, GridSearchCV, cross_val_score\n",
    "from sklearn.compose import ColumnTransformer\n",
    "from sklearn.preprocessing import OneHotEncoder\n",
    "from sklearn.pipeline import Pipeline\n",
    "from sklearn.tree import DecisionTreeRegressor\n",
    "from sklearn.preprocessing import StandardScaler, KBinsDiscretizer\n"
   ]
  },
  {
   "cell_type": "code",
   "execution_count": 3,
   "metadata": {},
   "outputs": [
    {
     "data": {
      "text/html": [
       "<div>\n",
       "<style scoped>\n",
       "    .dataframe tbody tr th:only-of-type {\n",
       "        vertical-align: middle;\n",
       "    }\n",
       "\n",
       "    .dataframe tbody tr th {\n",
       "        vertical-align: top;\n",
       "    }\n",
       "\n",
       "    .dataframe thead th {\n",
       "        text-align: right;\n",
       "    }\n",
       "</style>\n",
       "<table border=\"1\" class=\"dataframe\">\n",
       "  <thead>\n",
       "    <tr style=\"text-align: right;\">\n",
       "      <th></th>\n",
       "      <th>U.S._STATE</th>\n",
       "      <th>CLIMATE.REGION</th>\n",
       "      <th>CAUSE.CATEGORY</th>\n",
       "      <th>POPULATION</th>\n",
       "      <th>PC.REALGSP.REL</th>\n",
       "      <th>PC.REALGSP.CHANGE</th>\n",
       "      <th>OUTAGE.DURATION</th>\n",
       "      <th>TOTAL.PRICE</th>\n",
       "    </tr>\n",
       "  </thead>\n",
       "  <tbody>\n",
       "    <tr>\n",
       "      <th>1</th>\n",
       "      <td>Minnesota</td>\n",
       "      <td>East North Central</td>\n",
       "      <td>severe weather</td>\n",
       "      <td>5348119.0</td>\n",
       "      <td>1.077376</td>\n",
       "      <td>1.6</td>\n",
       "      <td>3060</td>\n",
       "      <td>9.28</td>\n",
       "    </tr>\n",
       "    <tr>\n",
       "      <th>2</th>\n",
       "      <td>Minnesota</td>\n",
       "      <td>East North Central</td>\n",
       "      <td>intentional attack</td>\n",
       "      <td>5457125.0</td>\n",
       "      <td>1.089792</td>\n",
       "      <td>1.9</td>\n",
       "      <td>1</td>\n",
       "      <td>9.28</td>\n",
       "    </tr>\n",
       "    <tr>\n",
       "      <th>3</th>\n",
       "      <td>Minnesota</td>\n",
       "      <td>East North Central</td>\n",
       "      <td>severe weather</td>\n",
       "      <td>5310903.0</td>\n",
       "      <td>1.066826</td>\n",
       "      <td>2.7</td>\n",
       "      <td>3000</td>\n",
       "      <td>8.15</td>\n",
       "    </tr>\n",
       "    <tr>\n",
       "      <th>4</th>\n",
       "      <td>Minnesota</td>\n",
       "      <td>East North Central</td>\n",
       "      <td>severe weather</td>\n",
       "      <td>5380443.0</td>\n",
       "      <td>1.071476</td>\n",
       "      <td>0.6</td>\n",
       "      <td>2550</td>\n",
       "      <td>9.19</td>\n",
       "    </tr>\n",
       "    <tr>\n",
       "      <th>5</th>\n",
       "      <td>Minnesota</td>\n",
       "      <td>East North Central</td>\n",
       "      <td>severe weather</td>\n",
       "      <td>5489594.0</td>\n",
       "      <td>1.092027</td>\n",
       "      <td>1.7</td>\n",
       "      <td>1740</td>\n",
       "      <td>10.43</td>\n",
       "    </tr>\n",
       "  </tbody>\n",
       "</table>\n",
       "</div>"
      ],
      "text/plain": [
       "  U.S._STATE      CLIMATE.REGION      CAUSE.CATEGORY  POPULATION  \\\n",
       "1  Minnesota  East North Central      severe weather   5348119.0   \n",
       "2  Minnesota  East North Central  intentional attack   5457125.0   \n",
       "3  Minnesota  East North Central      severe weather   5310903.0   \n",
       "4  Minnesota  East North Central      severe weather   5380443.0   \n",
       "5  Minnesota  East North Central      severe weather   5489594.0   \n",
       "\n",
       "  PC.REALGSP.REL PC.REALGSP.CHANGE OUTAGE.DURATION TOTAL.PRICE  \n",
       "1       1.077376               1.6            3060        9.28  \n",
       "2       1.089792               1.9               1        9.28  \n",
       "3       1.066826               2.7            3000        8.15  \n",
       "4       1.071476               0.6            2550        9.19  \n",
       "5       1.092027               1.7            1740       10.43  "
      ]
     },
     "execution_count": 3,
     "metadata": {},
     "output_type": "execute_result"
    }
   ],
   "source": [
    "# read in the data\n",
    "df = pd.read_excel('outage.xlsx', skiprows=[0,1,2,3,4])\n",
    "# drop unnecessary columns\n",
    "df = df.drop(columns=['variables', 'OBS']).drop(index=0)\n",
    "\n",
    "# get relevant features\n",
    "df_features = df[['U.S._STATE', 'CLIMATE.REGION', 'CAUSE.CATEGORY',  'POPULATION', 'PC.REALGSP.REL', 'PC.REALGSP.CHANGE', 'OUTAGE.DURATION', 'TOTAL.PRICE']]\n",
    "df_features = df_features.dropna(subset=['CLIMATE.REGION', 'OUTAGE.DURATION'])\n",
    "(df_features.head())"
   ]
  },
  {
   "cell_type": "markdown",
   "metadata": {},
   "source": [
    "For the baseline model, we will only use the features 'U.S._STATE', 'CAUSE.CATEGORY', and 'PC.REALGSP.REL'"
   ]
  },
  {
   "cell_type": "code",
   "execution_count": 4,
   "metadata": {},
   "outputs": [],
   "source": [
    "# transform categorical features\n",
    "X = df_features.drop('OUTAGE.DURATION', axis=1)\n",
    "y = df_features['OUTAGE.DURATION']\n",
    "# split train and test data\n",
    "X_train, X_test, y_train, y_test = train_test_split(X, y)\n",
    "\n",
    "# preprocessing\n",
    "preproc = ColumnTransformer(transformers = [('one hot', OneHotEncoder(handle_unknown='ignore'), ['U.S._STATE', 'CAUSE.CATEGORY']), ('pass', 'passthrough', [ 'PC.REALGSP.REL'])], remainder='drop')"
   ]
  },
  {
   "cell_type": "markdown",
   "metadata": {},
   "source": [
    "Below, we can see the R^2 scores for the training and testing data. This gives a baseline on how well the model does before feature engineering"
   ]
  },
  {
   "cell_type": "code",
   "execution_count": 5,
   "metadata": {},
   "outputs": [
    {
     "name": "stdout",
     "output_type": "stream",
     "text": [
      "0.7380848448415434\n",
      "-0.7105398103321896\n"
     ]
    }
   ],
   "source": [
    "pl = Pipeline([('preprocessor', preproc), ('lin reg', DecisionTreeRegressor())])\n",
    "pl.fit(X_train, y_train)\n",
    "print(pl.score(X_train, y_train))\n",
    "print(pl.score(X_test, y_test))"
   ]
  },
  {
   "cell_type": "markdown",
   "metadata": {},
   "source": [
    "### Final Model"
   ]
  },
  {
   "cell_type": "code",
   "execution_count": 6,
   "metadata": {},
   "outputs": [
    {
     "data": {
      "text/html": [
       "<div>\n",
       "<style scoped>\n",
       "    .dataframe tbody tr th:only-of-type {\n",
       "        vertical-align: middle;\n",
       "    }\n",
       "\n",
       "    .dataframe tbody tr th {\n",
       "        vertical-align: top;\n",
       "    }\n",
       "\n",
       "    .dataframe thead th {\n",
       "        text-align: right;\n",
       "    }\n",
       "</style>\n",
       "<table border=\"1\" class=\"dataframe\">\n",
       "  <thead>\n",
       "    <tr style=\"text-align: right;\">\n",
       "      <th></th>\n",
       "      <th>U.S._STATE</th>\n",
       "      <th>CLIMATE.REGION</th>\n",
       "      <th>CAUSE.CATEGORY</th>\n",
       "      <th>POPULATION</th>\n",
       "      <th>PC.REALGSP.REL</th>\n",
       "      <th>OUTAGE.DURATION</th>\n",
       "      <th>OUTAGE.START.TIME</th>\n",
       "      <th>MONTH</th>\n",
       "      <th>NERC.REGION</th>\n",
       "      <th>CLIMATE.CATEGORY</th>\n",
       "      <th>PC.REALGSP.CHANGE</th>\n",
       "    </tr>\n",
       "  </thead>\n",
       "  <tbody>\n",
       "    <tr>\n",
       "      <th>1</th>\n",
       "      <td>Minnesota</td>\n",
       "      <td>East North Central</td>\n",
       "      <td>severe weather</td>\n",
       "      <td>5348119.0</td>\n",
       "      <td>1.077376</td>\n",
       "      <td>3060</td>\n",
       "      <td>17</td>\n",
       "      <td>7.0</td>\n",
       "      <td>MRO</td>\n",
       "      <td>normal</td>\n",
       "      <td>1.6</td>\n",
       "    </tr>\n",
       "    <tr>\n",
       "      <th>2</th>\n",
       "      <td>Minnesota</td>\n",
       "      <td>East North Central</td>\n",
       "      <td>intentional attack</td>\n",
       "      <td>5457125.0</td>\n",
       "      <td>1.089792</td>\n",
       "      <td>1</td>\n",
       "      <td>18</td>\n",
       "      <td>5.0</td>\n",
       "      <td>MRO</td>\n",
       "      <td>normal</td>\n",
       "      <td>1.9</td>\n",
       "    </tr>\n",
       "    <tr>\n",
       "      <th>3</th>\n",
       "      <td>Minnesota</td>\n",
       "      <td>East North Central</td>\n",
       "      <td>severe weather</td>\n",
       "      <td>5310903.0</td>\n",
       "      <td>1.066826</td>\n",
       "      <td>3000</td>\n",
       "      <td>20</td>\n",
       "      <td>10.0</td>\n",
       "      <td>MRO</td>\n",
       "      <td>cold</td>\n",
       "      <td>2.7</td>\n",
       "    </tr>\n",
       "    <tr>\n",
       "      <th>4</th>\n",
       "      <td>Minnesota</td>\n",
       "      <td>East North Central</td>\n",
       "      <td>severe weather</td>\n",
       "      <td>5380443.0</td>\n",
       "      <td>1.071476</td>\n",
       "      <td>2550</td>\n",
       "      <td>4</td>\n",
       "      <td>6.0</td>\n",
       "      <td>MRO</td>\n",
       "      <td>normal</td>\n",
       "      <td>0.6</td>\n",
       "    </tr>\n",
       "    <tr>\n",
       "      <th>5</th>\n",
       "      <td>Minnesota</td>\n",
       "      <td>East North Central</td>\n",
       "      <td>severe weather</td>\n",
       "      <td>5489594.0</td>\n",
       "      <td>1.092027</td>\n",
       "      <td>1740</td>\n",
       "      <td>2</td>\n",
       "      <td>7.0</td>\n",
       "      <td>MRO</td>\n",
       "      <td>warm</td>\n",
       "      <td>1.7</td>\n",
       "    </tr>\n",
       "    <tr>\n",
       "      <th>...</th>\n",
       "      <td>...</td>\n",
       "      <td>...</td>\n",
       "      <td>...</td>\n",
       "      <td>...</td>\n",
       "      <td>...</td>\n",
       "      <td>...</td>\n",
       "      <td>...</td>\n",
       "      <td>...</td>\n",
       "      <td>...</td>\n",
       "      <td>...</td>\n",
       "      <td>...</td>\n",
       "    </tr>\n",
       "    <tr>\n",
       "      <th>1527</th>\n",
       "      <td>Idaho</td>\n",
       "      <td>Northwest</td>\n",
       "      <td>intentional attack</td>\n",
       "      <td>1680026.0</td>\n",
       "      <td>0.715673</td>\n",
       "      <td>0</td>\n",
       "      <td>0</td>\n",
       "      <td>3.0</td>\n",
       "      <td>WECC</td>\n",
       "      <td>warm</td>\n",
       "      <td>2.7</td>\n",
       "    </tr>\n",
       "    <tr>\n",
       "      <th>1529</th>\n",
       "      <td>Idaho</td>\n",
       "      <td>Northwest</td>\n",
       "      <td>system operability disruption</td>\n",
       "      <td>1680026.0</td>\n",
       "      <td>0.715673</td>\n",
       "      <td>220</td>\n",
       "      <td>15</td>\n",
       "      <td>7.0</td>\n",
       "      <td>WECC</td>\n",
       "      <td>normal</td>\n",
       "      <td>2.7</td>\n",
       "    </tr>\n",
       "    <tr>\n",
       "      <th>1530</th>\n",
       "      <td>North Dakota</td>\n",
       "      <td>West North Central</td>\n",
       "      <td>public appeal</td>\n",
       "      <td>685326.0</td>\n",
       "      <td>1.198083</td>\n",
       "      <td>720</td>\n",
       "      <td>8</td>\n",
       "      <td>12.0</td>\n",
       "      <td>MRO</td>\n",
       "      <td>cold</td>\n",
       "      <td>9.8</td>\n",
       "    </tr>\n",
       "    <tr>\n",
       "      <th>1532</th>\n",
       "      <td>South Dakota</td>\n",
       "      <td>West North Central</td>\n",
       "      <td>islanding</td>\n",
       "      <td>807067.0</td>\n",
       "      <td>0.968937</td>\n",
       "      <td>59</td>\n",
       "      <td>22</td>\n",
       "      <td>8.0</td>\n",
       "      <td>RFC</td>\n",
       "      <td>warm</td>\n",
       "      <td>0</td>\n",
       "    </tr>\n",
       "    <tr>\n",
       "      <th>1533</th>\n",
       "      <td>South Dakota</td>\n",
       "      <td>West North Central</td>\n",
       "      <td>islanding</td>\n",
       "      <td>807067.0</td>\n",
       "      <td>0.968937</td>\n",
       "      <td>181</td>\n",
       "      <td>11</td>\n",
       "      <td>8.0</td>\n",
       "      <td>MRO</td>\n",
       "      <td>warm</td>\n",
       "      <td>0</td>\n",
       "    </tr>\n",
       "  </tbody>\n",
       "</table>\n",
       "<p>1471 rows × 11 columns</p>\n",
       "</div>"
      ],
      "text/plain": [
       "        U.S._STATE      CLIMATE.REGION                 CAUSE.CATEGORY  \\\n",
       "1        Minnesota  East North Central                 severe weather   \n",
       "2        Minnesota  East North Central             intentional attack   \n",
       "3        Minnesota  East North Central                 severe weather   \n",
       "4        Minnesota  East North Central                 severe weather   \n",
       "5        Minnesota  East North Central                 severe weather   \n",
       "...            ...                 ...                            ...   \n",
       "1527         Idaho           Northwest             intentional attack   \n",
       "1529         Idaho           Northwest  system operability disruption   \n",
       "1530  North Dakota  West North Central                  public appeal   \n",
       "1532  South Dakota  West North Central                      islanding   \n",
       "1533  South Dakota  West North Central                      islanding   \n",
       "\n",
       "      POPULATION PC.REALGSP.REL OUTAGE.DURATION  OUTAGE.START.TIME  MONTH  \\\n",
       "1      5348119.0       1.077376            3060                 17    7.0   \n",
       "2      5457125.0       1.089792               1                 18    5.0   \n",
       "3      5310903.0       1.066826            3000                 20   10.0   \n",
       "4      5380443.0       1.071476            2550                  4    6.0   \n",
       "5      5489594.0       1.092027            1740                  2    7.0   \n",
       "...          ...            ...             ...                ...    ...   \n",
       "1527   1680026.0       0.715673               0                  0    3.0   \n",
       "1529   1680026.0       0.715673             220                 15    7.0   \n",
       "1530    685326.0       1.198083             720                  8   12.0   \n",
       "1532    807067.0       0.968937              59                 22    8.0   \n",
       "1533    807067.0       0.968937             181                 11    8.0   \n",
       "\n",
       "     NERC.REGION CLIMATE.CATEGORY PC.REALGSP.CHANGE  \n",
       "1            MRO           normal               1.6  \n",
       "2            MRO           normal               1.9  \n",
       "3            MRO             cold               2.7  \n",
       "4            MRO           normal               0.6  \n",
       "5            MRO             warm               1.7  \n",
       "...          ...              ...               ...  \n",
       "1527        WECC             warm               2.7  \n",
       "1529        WECC           normal               2.7  \n",
       "1530         MRO             cold               9.8  \n",
       "1532         RFC             warm                 0  \n",
       "1533         MRO             warm                 0  \n",
       "\n",
       "[1471 rows x 11 columns]"
      ]
     },
     "execution_count": 6,
     "metadata": {},
     "output_type": "execute_result"
    }
   ],
   "source": [
    "# read in the data\n",
    "df = pd.read_excel('outage.xlsx', skiprows=[0,1,2,3,4])\n",
    "# drop unnecessary columns\n",
    "df = df.drop(columns=['variables', 'OBS']).drop(index=0)\n",
    "# include 'CAUSE.CATEGORY.DETAIL'? 'OUTAGE.START.TIME',\n",
    "df_features = df[['U.S._STATE', 'CLIMATE.REGION', 'CAUSE.CATEGORY',  'POPULATION', 'PC.REALGSP.REL', 'OUTAGE.DURATION', 'OUTAGE.START.TIME', 'MONTH', 'NERC.REGION', 'CLIMATE.CATEGORY', 'PC.REALGSP.CHANGE']]\n",
    "df_features = df_features.dropna(subset=[ 'CLIMATE.REGION', 'OUTAGE.DURATION'])\n",
    "\n",
    "df_features['OUTAGE.START.TIME'] = df_features['OUTAGE.START.TIME'].apply(lambda x: x.hour)\n",
    "df_features"
   ]
  },
  {
   "cell_type": "markdown",
   "metadata": {},
   "source": [
    "For our model, we will standardize the 'PC.REALGSP.REL' and 'PC.REALGSP.CHANGE' columns, and split 'OUTAGE.START.TIME' and 'MONTH' into 3 bins. We also added the categorical features 'NERC.REGION', 'CLIMATE.CATEGORY', 'CLIMATE.REGION'"
   ]
  },
  {
   "cell_type": "code",
   "execution_count": 7,
   "metadata": {},
   "outputs": [],
   "source": [
    "X = df_features.drop('OUTAGE.DURATION', axis=1)\n",
    "y = df_features['OUTAGE.DURATION']\n",
    "\n",
    "X_train, X_test, y_train, y_test = train_test_split(X, y)\n",
    "\n",
    "preproc = ColumnTransformer(transformers = [('one hot', OneHotEncoder(handle_unknown='ignore'), ['U.S._STATE', 'CAUSE.CATEGORY', 'NERC.REGION', 'CLIMATE.CATEGORY', 'CLIMATE.REGION']),('std', StandardScaler(), ['PC.REALGSP.REL', 'PC.REALGSP.CHANGE']), ('kbins', KBinsDiscretizer(n_bins=3), ['OUTAGE.START.TIME', 'MONTH'])], remainder='drop')"
   ]
  },
  {
   "cell_type": "code",
   "execution_count": 20,
   "metadata": {},
   "outputs": [
    {
     "data": {
      "text/plain": [
       "0.7967002031468747"
      ]
     },
     "execution_count": 20,
     "metadata": {},
     "output_type": "execute_result"
    }
   ],
   "source": [
    "pl = Pipeline([('preprocessor', preproc), ('dtr', DecisionTreeRegressor(max_depth=10))])\n",
    "pl.fit(X_train, y_train)\n",
    "pl.score(X_train, y_train)\n",
    "# pl.score(X_t, y_train)"
   ]
  },
  {
   "cell_type": "code",
   "execution_count": 21,
   "metadata": {},
   "outputs": [
    {
     "data": {
      "text/plain": [
       "0.2005310567748494"
      ]
     },
     "execution_count": 21,
     "metadata": {},
     "output_type": "execute_result"
    }
   ],
   "source": [
    "pl.score(X_test, y_test)"
   ]
  },
  {
   "cell_type": "markdown",
   "metadata": {},
   "source": [
    "Manually look for the best max_depth hyperparameter"
   ]
  },
  {
   "cell_type": "code",
   "execution_count": 22,
   "metadata": {},
   "outputs": [],
   "source": [
    "scores = []\n",
    "for i in np.arange(1,30):\n",
    "    pl = Pipeline([('preprocessor', preproc), ('dtr', DecisionTreeRegressor(max_depth=i, criterion='squared_error'))])\n",
    "    pl.fit(X_train, y_train)\n",
    "    scores.append(pl.score(X_train, y_train))"
   ]
  },
  {
   "attachments": {},
   "cell_type": "markdown",
   "metadata": {},
   "source": [
    "Try using gridsearch for the best hyperparameter"
   ]
  },
  {
   "cell_type": "code",
   "execution_count": 32,
   "metadata": {},
   "outputs": [],
   "source": [
    "# hyperparameters\n",
    "hyperparams = {'dtr__max_depth': [2, 3, 4, 5, 7, 10, 13, 15, 18, None],\n",
    "                'dtr__min_samples_split': [2, 3, 5, 7, 10],\n",
    "                'dtr__criterion': [\"squared_error\", \"friedman_mse\", \"absolute_error\", \"poisson\"]\n",
    "            }"
   ]
  },
  {
   "cell_type": "code",
   "execution_count": 39,
   "metadata": {},
   "outputs": [
    {
     "data": {
      "text/plain": [
       "{'dtr__criterion': 'poisson',\n",
       " 'dtr__max_depth': 2,\n",
       " 'dtr__min_samples_split': 10}"
      ]
     },
     "execution_count": 39,
     "metadata": {},
     "output_type": "execute_result"
    }
   ],
   "source": [
    "# searcher = GridSearchCV()\n",
    "# DecisionTreeRegressor()\n",
    "pl = Pipeline([('preprocessor', preproc), ('dtr', DecisionTreeRegressor())])\n",
    "searcher = GridSearchCV(pl, param_grid=hyperparams, return_train_score=True, cv=5)\n",
    "searcher.fit(X_train, y_train)\n",
    "# searcher.score(X_train, y_train)\n",
    "searcher.best_params_\n",
    "# pl.score(X_t, y_train)"
   ]
  },
  {
   "cell_type": "markdown",
   "metadata": {},
   "source": [
    "It seems that a max depth of 30 is giving the best results"
   ]
  },
  {
   "cell_type": "code",
   "execution_count": 43,
   "metadata": {},
   "outputs": [
    {
     "name": "stdout",
     "output_type": "stream",
     "text": [
      "0.7967002031468747\n",
      "0.189874818325784\n"
     ]
    }
   ],
   "source": [
    "foo = Pipeline([('preprocessor', preproc), ('dtr', DecisionTreeRegressor(max_depth=10, criterion='squared_error', min_samples_split=2))])\n",
    "foo.fit(X_train, y_train)\n",
    "print(foo.score(X_train, y_train))\n",
    "print(foo.score(X_test, y_test))"
   ]
  },
  {
   "cell_type": "code",
   "execution_count": 27,
   "metadata": {},
   "outputs": [
    {
     "name": "stdout",
     "output_type": "stream",
     "text": [
      "0.7967002031468747\n"
     ]
    },
    {
     "data": {
      "text/plain": [
       "0.17987403712787542"
      ]
     },
     "execution_count": 27,
     "metadata": {},
     "output_type": "execute_result"
    }
   ],
   "source": [
    "fin_pl = Pipeline([('preprocessor', preproc), ('dtr', DecisionTreeRegressor(max_depth=10, criterion='squared_error'))])\n",
    "fin_pl.fit(X_train, y_train)\n",
    "print(fin_pl.score(X_train, y_train))\n",
    "fin_pl.score(X_test, y_test)"
   ]
  },
  {
   "cell_type": "code",
   "execution_count": 500,
   "metadata": {},
   "outputs": [],
   "source": [
    "y_pred = fin_pl.predict(X_test)"
   ]
  },
  {
   "cell_type": "markdown",
   "metadata": {},
   "source": [
    "### Fairness Evaluation"
   ]
  },
  {
   "cell_type": "markdown",
   "metadata": {},
   "source": [
    "Null Hypothesis: My model is fair; the R^2 for my two subsets are roughly the same\n",
    "\n",
    "Alternative Hypothesis: My model is unfair; the R^2 is higher for Western Climate Regions than Eastern"
   ]
  },
  {
   "cell_type": "code",
   "execution_count": 501,
   "metadata": {},
   "outputs": [],
   "source": [
    "from sklearn import metrics"
   ]
  },
  {
   "cell_type": "code",
   "execution_count": 502,
   "metadata": {},
   "outputs": [
    {
     "data": {
      "text/html": [
       "<div>\n",
       "<style scoped>\n",
       "    .dataframe tbody tr th:only-of-type {\n",
       "        vertical-align: middle;\n",
       "    }\n",
       "\n",
       "    .dataframe tbody tr th {\n",
       "        vertical-align: top;\n",
       "    }\n",
       "\n",
       "    .dataframe thead th {\n",
       "        text-align: right;\n",
       "    }\n",
       "</style>\n",
       "<table border=\"1\" class=\"dataframe\">\n",
       "  <thead>\n",
       "    <tr style=\"text-align: right;\">\n",
       "      <th></th>\n",
       "      <th>CLIMATE.REGION</th>\n",
       "      <th>predictions</th>\n",
       "      <th>OUTAGE.DURATION</th>\n",
       "    </tr>\n",
       "  </thead>\n",
       "  <tbody>\n",
       "    <tr>\n",
       "      <th>0</th>\n",
       "      <td>west</td>\n",
       "      <td>70.000000</td>\n",
       "      <td>2</td>\n",
       "    </tr>\n",
       "    <tr>\n",
       "      <th>1</th>\n",
       "      <td>east</td>\n",
       "      <td>1395.000000</td>\n",
       "      <td>5160</td>\n",
       "    </tr>\n",
       "    <tr>\n",
       "      <th>2</th>\n",
       "      <td>east</td>\n",
       "      <td>2089.000000</td>\n",
       "      <td>4232</td>\n",
       "    </tr>\n",
       "    <tr>\n",
       "      <th>3</th>\n",
       "      <td>west</td>\n",
       "      <td>7200.000000</td>\n",
       "      <td>11880</td>\n",
       "    </tr>\n",
       "    <tr>\n",
       "      <th>4</th>\n",
       "      <td>east</td>\n",
       "      <td>206.714286</td>\n",
       "      <td>1</td>\n",
       "    </tr>\n",
       "    <tr>\n",
       "      <th>...</th>\n",
       "      <td>...</td>\n",
       "      <td>...</td>\n",
       "      <td>...</td>\n",
       "    </tr>\n",
       "    <tr>\n",
       "      <th>312</th>\n",
       "      <td>west</td>\n",
       "      <td>92.000000</td>\n",
       "      <td>161</td>\n",
       "    </tr>\n",
       "    <tr>\n",
       "      <th>313</th>\n",
       "      <td>west</td>\n",
       "      <td>355.000000</td>\n",
       "      <td>186</td>\n",
       "    </tr>\n",
       "    <tr>\n",
       "      <th>314</th>\n",
       "      <td>west</td>\n",
       "      <td>0.000000</td>\n",
       "      <td>0</td>\n",
       "    </tr>\n",
       "    <tr>\n",
       "      <th>315</th>\n",
       "      <td>east</td>\n",
       "      <td>10080.000000</td>\n",
       "      <td>76</td>\n",
       "    </tr>\n",
       "    <tr>\n",
       "      <th>316</th>\n",
       "      <td>west</td>\n",
       "      <td>330.400000</td>\n",
       "      <td>476</td>\n",
       "    </tr>\n",
       "  </tbody>\n",
       "</table>\n",
       "<p>317 rows × 3 columns</p>\n",
       "</div>"
      ],
      "text/plain": [
       "    CLIMATE.REGION   predictions OUTAGE.DURATION\n",
       "0             west     70.000000               2\n",
       "1             east   1395.000000            5160\n",
       "2             east   2089.000000            4232\n",
       "3             west   7200.000000           11880\n",
       "4             east    206.714286               1\n",
       "..             ...           ...             ...\n",
       "312           west     92.000000             161\n",
       "313           west    355.000000             186\n",
       "314           west      0.000000               0\n",
       "315           east  10080.000000              76\n",
       "316           west    330.400000             476\n",
       "\n",
       "[317 rows x 3 columns]"
      ]
     },
     "execution_count": 502,
     "metadata": {},
     "output_type": "execute_result"
    }
   ],
   "source": [
    "df_parity = X_test.copy()[['CLIMATE.REGION']]\n",
    "df_parity['predictions'] = y_pred\n",
    "df_parity['OUTAGE.DURATION'] = y_test\n",
    "df_parity = df_parity[df_parity['CLIMATE.REGION'] != 'Central']\n",
    "df_parity['CLIMATE.REGION'] = df_parity['CLIMATE.REGION'].apply(lambda x: x.lower()).str.contains('east')\n",
    "df_parity['CLIMATE.REGION'] = df_parity['CLIMATE.REGION'].apply(lambda x: 'east' if x is True else 'west')\n",
    "df_parity = df_parity.reset_index(drop=True)\n",
    "df_parity"
   ]
  },
  {
   "cell_type": "code",
   "execution_count": 503,
   "metadata": {},
   "outputs": [
    {
     "data": {
      "text/html": [
       "<div>\n",
       "<style scoped>\n",
       "    .dataframe tbody tr th:only-of-type {\n",
       "        vertical-align: middle;\n",
       "    }\n",
       "\n",
       "    .dataframe tbody tr th {\n",
       "        vertical-align: top;\n",
       "    }\n",
       "\n",
       "    .dataframe thead th {\n",
       "        text-align: right;\n",
       "    }\n",
       "</style>\n",
       "<table border=\"1\" class=\"dataframe\">\n",
       "  <thead>\n",
       "    <tr style=\"text-align: right;\">\n",
       "      <th></th>\n",
       "      <th>predictions</th>\n",
       "    </tr>\n",
       "    <tr>\n",
       "      <th>CLIMATE.REGION</th>\n",
       "      <th></th>\n",
       "    </tr>\n",
       "  </thead>\n",
       "  <tbody>\n",
       "    <tr>\n",
       "      <th>east</th>\n",
       "      <td>3317.429731</td>\n",
       "    </tr>\n",
       "    <tr>\n",
       "      <th>west</th>\n",
       "      <td>2225.436401</td>\n",
       "    </tr>\n",
       "  </tbody>\n",
       "</table>\n",
       "</div>"
      ],
      "text/plain": [
       "                predictions\n",
       "CLIMATE.REGION             \n",
       "east            3317.429731\n",
       "west            2225.436401"
      ]
     },
     "execution_count": 503,
     "metadata": {},
     "output_type": "execute_result"
    }
   ],
   "source": [
    "df_parity.groupby('CLIMATE.REGION').mean()"
   ]
  },
  {
   "cell_type": "code",
   "execution_count": 504,
   "metadata": {},
   "outputs": [
    {
     "data": {
      "text/plain": [
       "0.3220608766280345"
      ]
     },
     "execution_count": 504,
     "metadata": {},
     "output_type": "execute_result"
    }
   ],
   "source": [
    "obs = df_parity.groupby('CLIMATE.REGION').apply(lambda x: metrics.r2_score(x['OUTAGE.DURATION'], x['predictions'])).diff().iloc[-1]\n",
    "obs"
   ]
  },
  {
   "cell_type": "code",
   "execution_count": 505,
   "metadata": {},
   "outputs": [],
   "source": [
    "diffs = []\n",
    "for i in range(100):\n",
    "    s = df_parity.assign(is_east=df_parity['CLIMATE.REGION'].sample(frac=1.0, replace=False).reset_index(drop=True)).groupby('is_east').apply(lambda x: metrics.r2_score(x['OUTAGE.DURATION'], x['predictions'])).diff().iloc[-1]\n",
    "    diffs.append(s)"
   ]
  },
  {
   "cell_type": "code",
   "execution_count": 506,
   "metadata": {},
   "outputs": [
    {
     "data": {
      "image/png": "[encoded data removed]",
      "text/plain": [
       "<Figure size 720x360 with 1 Axes>"
      ]
     },
     "metadata": {
      "image/png": {
       "height": 318,
       "width": 608
      },
      "needs_background": "light"
     },
     "output_type": "display_data"
    }
   ],
   "source": [
    "plt.figure(figsize=(10, 5))\n",
    "pd.Series(diffs).plot(kind='hist', ec='w', density=True, bins=15, title='Difference in R^2 (Climate Region)')\n",
    "plt.axvline(x=obs, color='red', label='observed difference in accuracy')\n",
    "plt.legend(loc='upper left');"
   ]
  },
  {
   "cell_type": "code",
   "execution_count": 507,
   "metadata": {},
   "outputs": [
    {
     "data": {
      "text/plain": [
       "0.31"
      ]
     },
     "execution_count": 507,
     "metadata": {},
     "output_type": "execute_result"
    }
   ],
   "source": [
    "(obs <= diffs).mean()"
   ]
  },
  {
   "cell_type": "markdown",
   "metadata": {},
   "source": [
    "It seems that the difference in R^2 across the two groups is significant, which is also shown by the pvalue of 0.31. So, the model does not achieve fairness."
   ]
  },
  {
   "cell_type": "markdown",
   "metadata": {},
   "source": []
  }
 ],
 "metadata": {
  "kernelspec": {
   "display_name": "Python 3.9.2 64-bit",
   "language": "python",
   "name": "python3"
  },
  "language_info": {
   "codemirror_mode": {
    "name": "ipython",
    "version": 3
   },
   "file_extension": ".py",
   "mimetype": "text/x-python",
   "name": "python",
   "nbconvert_exporter": "python",
   "pygments_lexer": "ipython3",
   "version": "3.9.2"
  },
  "vscode": {
   "interpreter": {
    "hash": "7812ea015bdcee6f23a998adcdd2ef97c151c0c241b7b7070987d9313e41299d"
   }
  }
 },
 "nbformat": 4,
 "nbformat_minor": 2
}
